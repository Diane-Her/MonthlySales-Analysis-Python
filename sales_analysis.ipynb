{
 "cells": [
  {
   "cell_type": "markdown",
   "metadata": {},
   "source": [
    "### Data Analysis\n",
    "**Data cleaning, formatting, transformation and visualization.**\n",
    "\n",
    "Autor: DianaHer "
   ]
  },
  {
   "cell_type": "markdown",
   "metadata": {},
   "source": [
    "**Script reutilizable para el análisis mensual de ventas**\n",
    "\n",
    "*Este análisis ha sido diseñado para ser reutilizado cada mes, con la premisa de recibir un resumen de ventas periódicamente. Su objetivo es identificar fortalezas y áreas de oportunidad en tres aspectos clave: productos, regiones de venta y desempeño del equipo de ventas.*"
   ]
  },
  {
   "cell_type": "code",
   "execution_count": 2,
   "metadata": {},
   "outputs": [],
   "source": [
    "# PASO 01. Instalación de paquetes\n",
    "\n",
    "import pandas as pd\n",
    "import seaborn as sns\n",
    "import numpy as nmp\n",
    "import matplotlib as mpl"
   ]
  },
  {
   "cell_type": "code",
   "execution_count": 3,
   "metadata": {},
   "outputs": [],
   "source": [
    "# PASO 02. Importación de archivos.\n",
    "# Realizar una visualización previa del archivo csv para corregir potenciales errores de importación.\n",
    "\n",
    "df_sellers = pd.read_csv(\"C:\\\\Users\\\\Usuario\\\\OneDrive\\\\Documentos\\\\Python\\\\Curso Udemy Análisis de Datos con Pandas y Python\\\\datasets\\\\ventasTotales.csv\", sep = ';', skiprows = 5)   "
   ]
  },
  {
   "cell_type": "code",
   "execution_count": 4,
   "metadata": {},
   "outputs": [
    {
     "data": {
      "text/html": [
       "<div>\n",
       "<style scoped>\n",
       "    .dataframe tbody tr th:only-of-type {\n",
       "        vertical-align: middle;\n",
       "    }\n",
       "\n",
       "    .dataframe tbody tr th {\n",
       "        vertical-align: top;\n",
       "    }\n",
       "\n",
       "    .dataframe thead th {\n",
       "        text-align: right;\n",
       "    }\n",
       "</style>\n",
       "<table border=\"1\" class=\"dataframe\">\n",
       "  <thead>\n",
       "    <tr style=\"text-align: right;\">\n",
       "      <th></th>\n",
       "      <th>Fecha</th>\n",
       "      <th>Vendedor</th>\n",
       "      <th>Región</th>\n",
       "      <th>Artículo</th>\n",
       "      <th>Categoría</th>\n",
       "      <th>Unidades</th>\n",
       "      <th>Ganancia</th>\n",
       "    </tr>\n",
       "  </thead>\n",
       "  <tbody>\n",
       "    <tr>\n",
       "      <th>0</th>\n",
       "      <td>1/1/2016</td>\n",
       "      <td>Steve Ashton</td>\n",
       "      <td>Norte</td>\n",
       "      <td>Medias Femeninas</td>\n",
       "      <td>Vestimenta</td>\n",
       "      <td>6</td>\n",
       "      <td>18,00</td>\n",
       "    </tr>\n",
       "    <tr>\n",
       "      <th>1</th>\n",
       "      <td>1/1/2016</td>\n",
       "      <td>Trevor Snodgrass</td>\n",
       "      <td>Oeste</td>\n",
       "      <td>Chocolate</td>\n",
       "      <td>Comestibles</td>\n",
       "      <td>8</td>\n",
       "      <td>3,84</td>\n",
       "    </tr>\n",
       "    <tr>\n",
       "      <th>2</th>\n",
       "      <td>1/1/2016</td>\n",
       "      <td>Sarah Bond</td>\n",
       "      <td>Sur</td>\n",
       "      <td>Gorras</td>\n",
       "      <td>Vestimenta</td>\n",
       "      <td>3</td>\n",
       "      <td>6,30</td>\n",
       "    </tr>\n",
       "    <tr>\n",
       "      <th>3</th>\n",
       "      <td>1/1/2016</td>\n",
       "      <td>Desmond Delaney</td>\n",
       "      <td>Sur</td>\n",
       "      <td>Sánguche de Queso</td>\n",
       "      <td>Comestibles</td>\n",
       "      <td>9</td>\n",
       "      <td>14,40</td>\n",
       "    </tr>\n",
       "    <tr>\n",
       "      <th>4</th>\n",
       "      <td>1/1/2016</td>\n",
       "      <td>Desmond Delaney</td>\n",
       "      <td>Este</td>\n",
       "      <td>Chocolate</td>\n",
       "      <td>Comestibles</td>\n",
       "      <td>14</td>\n",
       "      <td>6,72</td>\n",
       "    </tr>\n",
       "  </tbody>\n",
       "</table>\n",
       "</div>"
      ],
      "text/plain": [
       "      Fecha          Vendedor Región           Artículo    Categoría  \\\n",
       "0  1/1/2016      Steve Ashton  Norte   Medias Femeninas   Vestimenta   \n",
       "1  1/1/2016  Trevor Snodgrass  Oeste          Chocolate  Comestibles   \n",
       "2  1/1/2016        Sarah Bond    Sur             Gorras   Vestimenta   \n",
       "3  1/1/2016   Desmond Delaney    Sur  Sánguche de Queso  Comestibles   \n",
       "4  1/1/2016   Desmond Delaney   Este          Chocolate  Comestibles   \n",
       "\n",
       "   Unidades Ganancia  \n",
       "0         6    18,00  \n",
       "1         8     3,84  \n",
       "2         3     6,30  \n",
       "3         9    14,40  \n",
       "4        14     6,72  "
      ]
     },
     "execution_count": 4,
     "metadata": {},
     "output_type": "execute_result"
    }
   ],
   "source": [
    "# PASO 03. Revisión y limpieza de datos.\n",
    "\n",
    "df_sellers.head()\n"
   ]
  },
  {
   "cell_type": "code",
   "execution_count": 5,
   "metadata": {},
   "outputs": [
    {
     "name": "stdout",
     "output_type": "stream",
     "text": [
      "<class 'pandas.core.frame.DataFrame'>\n",
      "RangeIndex: 460 entries, 0 to 459\n",
      "Data columns (total 7 columns):\n",
      " #   Column     Non-Null Count  Dtype \n",
      "---  ------     --------------  ----- \n",
      " 0   Fecha      460 non-null    object\n",
      " 1   Vendedor   460 non-null    object\n",
      " 2   Región     460 non-null    object\n",
      " 3   Artículo   460 non-null    object\n",
      " 4   Categoría  460 non-null    object\n",
      " 5   Unidades   460 non-null    int64 \n",
      " 6   Ganancia   460 non-null    object\n",
      "dtypes: int64(1), object(6)\n",
      "memory usage: 25.3+ KB\n"
     ]
    }
   ],
   "source": [
    "df_sellers.info()"
   ]
  },
  {
   "cell_type": "markdown",
   "metadata": {},
   "source": [
    "*El dataset cuenta con 7 columnas con información de las ventas por región, categoría, ganancias, entre otras. Y cuenta con 460 registros.*"
   ]
  },
  {
   "cell_type": "code",
   "execution_count": 6,
   "metadata": {},
   "outputs": [
    {
     "data": {
      "text/html": [
       "<div>\n",
       "<style scoped>\n",
       "    .dataframe tbody tr th:only-of-type {\n",
       "        vertical-align: middle;\n",
       "    }\n",
       "\n",
       "    .dataframe tbody tr th {\n",
       "        vertical-align: top;\n",
       "    }\n",
       "\n",
       "    .dataframe thead th {\n",
       "        text-align: right;\n",
       "    }\n",
       "</style>\n",
       "<table border=\"1\" class=\"dataframe\">\n",
       "  <thead>\n",
       "    <tr style=\"text-align: right;\">\n",
       "      <th></th>\n",
       "      <th>fecha</th>\n",
       "      <th>vendedor</th>\n",
       "      <th>region</th>\n",
       "      <th>articulo</th>\n",
       "      <th>categoria</th>\n",
       "      <th>unidades</th>\n",
       "      <th>ganancia</th>\n",
       "    </tr>\n",
       "  </thead>\n",
       "  <tbody>\n",
       "    <tr>\n",
       "      <th>0</th>\n",
       "      <td>1/1/2016</td>\n",
       "      <td>Steve Ashton</td>\n",
       "      <td>Norte</td>\n",
       "      <td>Medias Femeninas</td>\n",
       "      <td>Vestimenta</td>\n",
       "      <td>6</td>\n",
       "      <td>18,00</td>\n",
       "    </tr>\n",
       "    <tr>\n",
       "      <th>1</th>\n",
       "      <td>1/1/2016</td>\n",
       "      <td>Trevor Snodgrass</td>\n",
       "      <td>Oeste</td>\n",
       "      <td>Chocolate</td>\n",
       "      <td>Comestibles</td>\n",
       "      <td>8</td>\n",
       "      <td>3,84</td>\n",
       "    </tr>\n",
       "    <tr>\n",
       "      <th>2</th>\n",
       "      <td>1/1/2016</td>\n",
       "      <td>Sarah Bond</td>\n",
       "      <td>Sur</td>\n",
       "      <td>Gorras</td>\n",
       "      <td>Vestimenta</td>\n",
       "      <td>3</td>\n",
       "      <td>6,30</td>\n",
       "    </tr>\n",
       "    <tr>\n",
       "      <th>3</th>\n",
       "      <td>1/1/2016</td>\n",
       "      <td>Desmond Delaney</td>\n",
       "      <td>Sur</td>\n",
       "      <td>Sánguche de Queso</td>\n",
       "      <td>Comestibles</td>\n",
       "      <td>9</td>\n",
       "      <td>14,40</td>\n",
       "    </tr>\n",
       "    <tr>\n",
       "      <th>4</th>\n",
       "      <td>1/1/2016</td>\n",
       "      <td>Desmond Delaney</td>\n",
       "      <td>Este</td>\n",
       "      <td>Chocolate</td>\n",
       "      <td>Comestibles</td>\n",
       "      <td>14</td>\n",
       "      <td>6,72</td>\n",
       "    </tr>\n",
       "  </tbody>\n",
       "</table>\n",
       "</div>"
      ],
      "text/plain": [
       "      fecha          vendedor region           articulo    categoria  \\\n",
       "0  1/1/2016      Steve Ashton  Norte   Medias Femeninas   Vestimenta   \n",
       "1  1/1/2016  Trevor Snodgrass  Oeste          Chocolate  Comestibles   \n",
       "2  1/1/2016        Sarah Bond    Sur             Gorras   Vestimenta   \n",
       "3  1/1/2016   Desmond Delaney    Sur  Sánguche de Queso  Comestibles   \n",
       "4  1/1/2016   Desmond Delaney   Este          Chocolate  Comestibles   \n",
       "\n",
       "   unidades ganancia  \n",
       "0         6    18,00  \n",
       "1         8     3,84  \n",
       "2         3     6,30  \n",
       "3         9    14,40  \n",
       "4        14     6,72  "
      ]
     },
     "execution_count": 6,
     "metadata": {},
     "output_type": "execute_result"
    }
   ],
   "source": [
    "# Limpieza del dataset.\n",
    "# Quitar espacios en blanco, convertir a minúsculas, quitar acentos y caracteres fuera del codigo ASCII\n",
    "\n",
    "df_sellers.columns = (\n",
    "    df_sellers.columns\n",
    "    .str.strip()\n",
    "    .str.lower()\n",
    "    .str.replace(' ', '_')\n",
    "    .str.normalize('NFKD')\n",
    "    .str.encode('ascii', errors = 'ignore').str.decode('utf-8'))\n",
    "\n",
    "df_sellers.head()"
   ]
  },
  {
   "cell_type": "code",
   "execution_count": 7,
   "metadata": {},
   "outputs": [
    {
     "name": "stdout",
     "output_type": "stream",
     "text": [
      "       fecha         vendedor region   articulo   categoria  unidades ganancia\n",
      "82  6/1/2016  Desmond Delaney    Sur  Sandalias  Vestimenta        15   157,50\n"
     ]
    }
   ],
   "source": [
    "# Verificar si existen registros duplicados\n",
    "\n",
    "duplicated = df_sellers[df_sellers.duplicated()]\n",
    "print(duplicated)"
   ]
  },
  {
   "cell_type": "code",
   "execution_count": 8,
   "metadata": {},
   "outputs": [
    {
     "name": "stdout",
     "output_type": "stream",
     "text": [
      "<class 'pandas.core.frame.DataFrame'>\n",
      "Index: 459 entries, 0 to 459\n",
      "Data columns (total 7 columns):\n",
      " #   Column     Non-Null Count  Dtype \n",
      "---  ------     --------------  ----- \n",
      " 0   fecha      459 non-null    object\n",
      " 1   vendedor   459 non-null    object\n",
      " 2   region     459 non-null    object\n",
      " 3   articulo   459 non-null    object\n",
      " 4   categoria  459 non-null    object\n",
      " 5   unidades   459 non-null    int64 \n",
      " 6   ganancia   459 non-null    object\n",
      "dtypes: int64(1), object(6)\n",
      "memory usage: 28.7+ KB\n"
     ]
    }
   ],
   "source": [
    "# Eliminar registros duplicados\n",
    "\n",
    "df_sellers_clean = df_sellers.drop_duplicates()\n",
    "df_sellers_clean.info() # Revisar que el valor ya fue eliminado"
   ]
  },
  {
   "cell_type": "code",
   "execution_count": 9,
   "metadata": {},
   "outputs": [
    {
     "data": {
      "text/plain": [
       "articulo\n",
       "Escoba               31\n",
       "Bufanda              28\n",
       "Pan                  26\n",
       "Sánguche de Queso    25\n",
       "Escobillón           25\n",
       "Chocolate            25\n",
       "Detergente           24\n",
       "Pepinillo            24\n",
       "Sudadera             24\n",
       "Lejía                24\n",
       "Calcetines           23\n",
       "Gorras               21\n",
       "Medias Femeninas     20\n",
       "Shorts               19\n",
       "Soda                 19\n",
       "Sandalias            18\n",
       "Limpiavidrios        18\n",
       "Bombilla             18\n",
       "Caramelos            17\n",
       "Cerveza              17\n",
       "Trapo Piso           13\n",
       "Name: count, dtype: int64"
      ]
     },
     "execution_count": 9,
     "metadata": {},
     "output_type": "execute_result"
    }
   ],
   "source": [
    "# PASO 04. Realizar cálculos para el análisis de datos.\n",
    "# Verificar los artículos más vendidos.\n",
    "\n",
    "df_sc = df_sellers_clean\n",
    "df_sc.articulo.value_counts()"
   ]
  },
  {
   "cell_type": "markdown",
   "metadata": {},
   "source": [
    "*En la previa lista se puede observar el número de ventas por artículo, es fácil apreciar los tres artículos más vendidos: escoba(31), bufanda(28) y pan(26).*"
   ]
  },
  {
   "cell_type": "code",
   "execution_count": 10,
   "metadata": {},
   "outputs": [
    {
     "name": "stderr",
     "output_type": "stream",
     "text": [
      "C:\\Users\\Usuario\\AppData\\Local\\Temp\\ipykernel_16704\\1788844174.py:3: SettingWithCopyWarning: \n",
      "A value is trying to be set on a copy of a slice from a DataFrame.\n",
      "Try using .loc[row_indexer,col_indexer] = value instead\n",
      "\n",
      "See the caveats in the documentation: https://pandas.pydata.org/pandas-docs/stable/user_guide/indexing.html#returning-a-view-versus-a-copy\n",
      "  df_sc['ganancia'] = df_sc['ganancia'].str.replace(',', '.')\n"
     ]
    },
    {
     "data": {
      "text/html": [
       "<div>\n",
       "<style scoped>\n",
       "    .dataframe tbody tr th:only-of-type {\n",
       "        vertical-align: middle;\n",
       "    }\n",
       "\n",
       "    .dataframe tbody tr th {\n",
       "        vertical-align: top;\n",
       "    }\n",
       "\n",
       "    .dataframe thead th {\n",
       "        text-align: right;\n",
       "    }\n",
       "</style>\n",
       "<table border=\"1\" class=\"dataframe\">\n",
       "  <thead>\n",
       "    <tr style=\"text-align: right;\">\n",
       "      <th></th>\n",
       "      <th>fecha</th>\n",
       "      <th>vendedor</th>\n",
       "      <th>region</th>\n",
       "      <th>articulo</th>\n",
       "      <th>categoria</th>\n",
       "      <th>unidades</th>\n",
       "      <th>ganancia</th>\n",
       "    </tr>\n",
       "  </thead>\n",
       "  <tbody>\n",
       "    <tr>\n",
       "      <th>0</th>\n",
       "      <td>1/1/2016</td>\n",
       "      <td>Steve Ashton</td>\n",
       "      <td>Norte</td>\n",
       "      <td>Medias Femeninas</td>\n",
       "      <td>Vestimenta</td>\n",
       "      <td>6</td>\n",
       "      <td>18.00</td>\n",
       "    </tr>\n",
       "    <tr>\n",
       "      <th>1</th>\n",
       "      <td>1/1/2016</td>\n",
       "      <td>Trevor Snodgrass</td>\n",
       "      <td>Oeste</td>\n",
       "      <td>Chocolate</td>\n",
       "      <td>Comestibles</td>\n",
       "      <td>8</td>\n",
       "      <td>3.84</td>\n",
       "    </tr>\n",
       "    <tr>\n",
       "      <th>2</th>\n",
       "      <td>1/1/2016</td>\n",
       "      <td>Sarah Bond</td>\n",
       "      <td>Sur</td>\n",
       "      <td>Gorras</td>\n",
       "      <td>Vestimenta</td>\n",
       "      <td>3</td>\n",
       "      <td>6.30</td>\n",
       "    </tr>\n",
       "    <tr>\n",
       "      <th>3</th>\n",
       "      <td>1/1/2016</td>\n",
       "      <td>Desmond Delaney</td>\n",
       "      <td>Sur</td>\n",
       "      <td>Sánguche de Queso</td>\n",
       "      <td>Comestibles</td>\n",
       "      <td>9</td>\n",
       "      <td>14.40</td>\n",
       "    </tr>\n",
       "    <tr>\n",
       "      <th>4</th>\n",
       "      <td>1/1/2016</td>\n",
       "      <td>Desmond Delaney</td>\n",
       "      <td>Este</td>\n",
       "      <td>Chocolate</td>\n",
       "      <td>Comestibles</td>\n",
       "      <td>14</td>\n",
       "      <td>6.72</td>\n",
       "    </tr>\n",
       "  </tbody>\n",
       "</table>\n",
       "</div>"
      ],
      "text/plain": [
       "      fecha          vendedor region           articulo    categoria  \\\n",
       "0  1/1/2016      Steve Ashton  Norte   Medias Femeninas   Vestimenta   \n",
       "1  1/1/2016  Trevor Snodgrass  Oeste          Chocolate  Comestibles   \n",
       "2  1/1/2016        Sarah Bond    Sur             Gorras   Vestimenta   \n",
       "3  1/1/2016   Desmond Delaney    Sur  Sánguche de Queso  Comestibles   \n",
       "4  1/1/2016   Desmond Delaney   Este          Chocolate  Comestibles   \n",
       "\n",
       "   unidades ganancia  \n",
       "0         6    18.00  \n",
       "1         8     3.84  \n",
       "2         3     6.30  \n",
       "3         9    14.40  \n",
       "4        14     6.72  "
      ]
     },
     "execution_count": 10,
     "metadata": {},
     "output_type": "execute_result"
    }
   ],
   "source": [
    "# Reemplazar las comas por puntos para poder converitr la columna de ganancia a valor numérico\n",
    "\n",
    "df_sc['ganancia'] = df_sc['ganancia'].str.replace(',', '.')\n",
    "df_sc.head()"
   ]
  },
  {
   "cell_type": "code",
   "execution_count": 11,
   "metadata": {},
   "outputs": [
    {
     "name": "stdout",
     "output_type": "stream",
     "text": [
      "<class 'pandas.core.frame.DataFrame'>\n",
      "Index: 459 entries, 0 to 459\n",
      "Data columns (total 7 columns):\n",
      " #   Column     Non-Null Count  Dtype  \n",
      "---  ------     --------------  -----  \n",
      " 0   fecha      459 non-null    object \n",
      " 1   vendedor   459 non-null    object \n",
      " 2   region     459 non-null    object \n",
      " 3   articulo   459 non-null    object \n",
      " 4   categoria  459 non-null    object \n",
      " 5   unidades   459 non-null    int64  \n",
      " 6   ganancia   459 non-null    float64\n",
      "dtypes: float64(1), int64(1), object(5)\n",
      "memory usage: 28.7+ KB\n"
     ]
    },
    {
     "name": "stderr",
     "output_type": "stream",
     "text": [
      "C:\\Users\\Usuario\\AppData\\Local\\Temp\\ipykernel_16704\\1142648904.py:3: SettingWithCopyWarning: \n",
      "A value is trying to be set on a copy of a slice from a DataFrame.\n",
      "Try using .loc[row_indexer,col_indexer] = value instead\n",
      "\n",
      "See the caveats in the documentation: https://pandas.pydata.org/pandas-docs/stable/user_guide/indexing.html#returning-a-view-versus-a-copy\n",
      "  df_sc['ganancia'] = pd.to_numeric(df_sc['ganancia'])\n"
     ]
    }
   ],
   "source": [
    "# Cambiar el formato de la columna ganancia\n",
    "\n",
    "df_sc['ganancia'] = pd.to_numeric(df_sc['ganancia'])\n",
    "df_sc.info()"
   ]
  },
  {
   "cell_type": "code",
   "execution_count": 12,
   "metadata": {},
   "outputs": [
    {
     "name": "stdout",
     "output_type": "stream",
     "text": [
      "<class 'pandas.core.frame.DataFrame'>\n",
      "Index: 459 entries, 0 to 459\n",
      "Data columns (total 7 columns):\n",
      " #   Column     Non-Null Count  Dtype  \n",
      "---  ------     --------------  -----  \n",
      " 0   fecha      459 non-null    object \n",
      " 1   vendedor   459 non-null    object \n",
      " 2   region     459 non-null    object \n",
      " 3   articulo   459 non-null    object \n",
      " 4   categoria  459 non-null    object \n",
      " 5   unidades   459 non-null    int64  \n",
      " 6   ganancia   459 non-null    float64\n",
      "dtypes: float64(1), int64(1), object(5)\n",
      "memory usage: 28.7+ KB\n"
     ]
    }
   ],
   "source": [
    "df_sc.info()"
   ]
  },
  {
   "cell_type": "code",
   "execution_count": 13,
   "metadata": {},
   "outputs": [
    {
     "data": {
      "text/html": [
       "<div>\n",
       "<style scoped>\n",
       "    .dataframe tbody tr th:only-of-type {\n",
       "        vertical-align: middle;\n",
       "    }\n",
       "\n",
       "    .dataframe tbody tr th {\n",
       "        vertical-align: top;\n",
       "    }\n",
       "\n",
       "    .dataframe thead th {\n",
       "        text-align: right;\n",
       "    }\n",
       "</style>\n",
       "<table border=\"1\" class=\"dataframe\">\n",
       "  <thead>\n",
       "    <tr style=\"text-align: right;\">\n",
       "      <th></th>\n",
       "      <th>articulo</th>\n",
       "      <th>ganancia</th>\n",
       "    </tr>\n",
       "  </thead>\n",
       "  <tbody>\n",
       "    <tr>\n",
       "      <th>0</th>\n",
       "      <td>Sandalias</td>\n",
       "      <td>1554.00</td>\n",
       "    </tr>\n",
       "    <tr>\n",
       "      <th>1</th>\n",
       "      <td>Sudadera</td>\n",
       "      <td>876.00</td>\n",
       "    </tr>\n",
       "    <tr>\n",
       "      <th>2</th>\n",
       "      <td>Escoba</td>\n",
       "      <td>835.85</td>\n",
       "    </tr>\n",
       "    <tr>\n",
       "      <th>3</th>\n",
       "      <td>Lejía</td>\n",
       "      <td>666.50</td>\n",
       "    </tr>\n",
       "    <tr>\n",
       "      <th>4</th>\n",
       "      <td>Bufanda</td>\n",
       "      <td>616.00</td>\n",
       "    </tr>\n",
       "    <tr>\n",
       "      <th>5</th>\n",
       "      <td>Shorts</td>\n",
       "      <td>558.60</td>\n",
       "    </tr>\n",
       "    <tr>\n",
       "      <th>6</th>\n",
       "      <td>Medias Femeninas</td>\n",
       "      <td>525.00</td>\n",
       "    </tr>\n",
       "    <tr>\n",
       "      <th>7</th>\n",
       "      <td>Detergente</td>\n",
       "      <td>448.88</td>\n",
       "    </tr>\n",
       "    <tr>\n",
       "      <th>8</th>\n",
       "      <td>Calcetines</td>\n",
       "      <td>405.00</td>\n",
       "    </tr>\n",
       "    <tr>\n",
       "      <th>9</th>\n",
       "      <td>Gorras</td>\n",
       "      <td>327.60</td>\n",
       "    </tr>\n",
       "    <tr>\n",
       "      <th>10</th>\n",
       "      <td>Sánguche de Queso</td>\n",
       "      <td>326.40</td>\n",
       "    </tr>\n",
       "    <tr>\n",
       "      <th>11</th>\n",
       "      <td>Escobillón</td>\n",
       "      <td>184.45</td>\n",
       "    </tr>\n",
       "    <tr>\n",
       "      <th>12</th>\n",
       "      <td>Limpiavidrios</td>\n",
       "      <td>115.20</td>\n",
       "    </tr>\n",
       "    <tr>\n",
       "      <th>13</th>\n",
       "      <td>Chocolate</td>\n",
       "      <td>99.36</td>\n",
       "    </tr>\n",
       "    <tr>\n",
       "      <th>14</th>\n",
       "      <td>Bombilla</td>\n",
       "      <td>87.00</td>\n",
       "    </tr>\n",
       "    <tr>\n",
       "      <th>15</th>\n",
       "      <td>Soda</td>\n",
       "      <td>85.76</td>\n",
       "    </tr>\n",
       "    <tr>\n",
       "      <th>16</th>\n",
       "      <td>Caramelos</td>\n",
       "      <td>84.00</td>\n",
       "    </tr>\n",
       "    <tr>\n",
       "      <th>17</th>\n",
       "      <td>Pan</td>\n",
       "      <td>80.00</td>\n",
       "    </tr>\n",
       "    <tr>\n",
       "      <th>18</th>\n",
       "      <td>Pepinillo</td>\n",
       "      <td>61.50</td>\n",
       "    </tr>\n",
       "    <tr>\n",
       "      <th>19</th>\n",
       "      <td>Trapo Piso</td>\n",
       "      <td>60.48</td>\n",
       "    </tr>\n",
       "    <tr>\n",
       "      <th>20</th>\n",
       "      <td>Cerveza</td>\n",
       "      <td>57.20</td>\n",
       "    </tr>\n",
       "  </tbody>\n",
       "</table>\n",
       "</div>"
      ],
      "text/plain": [
       "             articulo  ganancia\n",
       "0           Sandalias   1554.00\n",
       "1            Sudadera    876.00\n",
       "2              Escoba    835.85\n",
       "3               Lejía    666.50\n",
       "4             Bufanda    616.00\n",
       "5              Shorts    558.60\n",
       "6    Medias Femeninas    525.00\n",
       "7          Detergente    448.88\n",
       "8          Calcetines    405.00\n",
       "9              Gorras    327.60\n",
       "10  Sánguche de Queso    326.40\n",
       "11         Escobillón    184.45\n",
       "12      Limpiavidrios    115.20\n",
       "13          Chocolate     99.36\n",
       "14           Bombilla     87.00\n",
       "15               Soda     85.76\n",
       "16          Caramelos     84.00\n",
       "17                Pan     80.00\n",
       "18          Pepinillo     61.50\n",
       "19         Trapo Piso     60.48\n",
       "20            Cerveza     57.20"
      ]
     },
     "execution_count": 13,
     "metadata": {},
     "output_type": "execute_result"
    }
   ],
   "source": [
    "# Verificar que artículo genera más ganancia\n",
    "\n",
    "totales_artículos = df_sc.groupby('articulo')['ganancia'].sum()\n",
    "\n",
    "totales_artículos = totales_artículos.sort_values(ascending = False)\n",
    "\n",
    "# Convertirlo a df haciendo reset del índice\n",
    "\n",
    "totales_artículos = totales_artículos.reset_index()\n",
    "totales_artículos"
   ]
  },
  {
   "cell_type": "code",
   "execution_count": 14,
   "metadata": {},
   "outputs": [
    {
     "data": {
      "text/html": [
       "<div>\n",
       "<style scoped>\n",
       "    .dataframe tbody tr th:only-of-type {\n",
       "        vertical-align: middle;\n",
       "    }\n",
       "\n",
       "    .dataframe tbody tr th {\n",
       "        vertical-align: top;\n",
       "    }\n",
       "\n",
       "    .dataframe thead th {\n",
       "        text-align: right;\n",
       "    }\n",
       "</style>\n",
       "<table border=\"1\" class=\"dataframe\">\n",
       "  <thead>\n",
       "    <tr style=\"text-align: right;\">\n",
       "      <th></th>\n",
       "      <th>articulo</th>\n",
       "      <th>ganancia</th>\n",
       "    </tr>\n",
       "  </thead>\n",
       "  <tbody>\n",
       "    <tr>\n",
       "      <th>0</th>\n",
       "      <td>Sandalias</td>\n",
       "      <td>1554.00</td>\n",
       "    </tr>\n",
       "    <tr>\n",
       "      <th>1</th>\n",
       "      <td>Sudadera</td>\n",
       "      <td>876.00</td>\n",
       "    </tr>\n",
       "    <tr>\n",
       "      <th>2</th>\n",
       "      <td>Escoba</td>\n",
       "      <td>835.85</td>\n",
       "    </tr>\n",
       "    <tr>\n",
       "      <th>3</th>\n",
       "      <td>Lejía</td>\n",
       "      <td>666.50</td>\n",
       "    </tr>\n",
       "    <tr>\n",
       "      <th>4</th>\n",
       "      <td>Bufanda</td>\n",
       "      <td>616.00</td>\n",
       "    </tr>\n",
       "  </tbody>\n",
       "</table>\n",
       "</div>"
      ],
      "text/plain": [
       "    articulo  ganancia\n",
       "0  Sandalias   1554.00\n",
       "1   Sudadera    876.00\n",
       "2     Escoba    835.85\n",
       "3      Lejía    666.50\n",
       "4    Bufanda    616.00"
      ]
     },
     "execution_count": 14,
     "metadata": {},
     "output_type": "execute_result"
    }
   ],
   "source": [
    "# Seleccionar solo los 5 artículos con mayores ganancias\n",
    "\n",
    "top5_artículos = totales_artículos.head(5)\n",
    "top5_artículos"
   ]
  },
  {
   "cell_type": "code",
   "execution_count": 15,
   "metadata": {},
   "outputs": [
    {
     "name": "stderr",
     "output_type": "stream",
     "text": [
      "C:\\Users\\Usuario\\AppData\\Local\\Temp\\ipykernel_16704\\1931435551.py:21: UserWarning: set_ticklabels() should only be used with a fixed number of ticks, i.e. after set_ticks() or using a FixedLocator.\n",
      "  ax.set_xticklabels(top5_artículos['articulo'], rotation=90)\n"
     ]
    },
    {
     "data": {
      "image/png": "[encoded data removed]",
      "text/plain": [
       "<Figure size 600x500 with 1 Axes>"
      ]
     },
     "metadata": {},
     "output_type": "display_data"
    }
   ],
   "source": [
    "# Realizar un gráfico representativo para los primeros tres artículos, así como para el total de las ganancias por artículo.\n",
    "\n",
    "#Instalar pypilot para mejor manejo de los atributos del gráfico\n",
    "\n",
    "import matplotlib.pyplot as plt\n",
    "\n",
    "# Crear figura y ejes\n",
    "fig, ax = plt.subplots(figsize=(6, 5))\n",
    "\n",
    "# Definir tipo y componentes del gráfico\n",
    "ax.bar(top5_artículos['articulo'], top5_artículos['ganancia'])\n",
    "\n",
    "# Añadir etiquetas de valor en la cima de cada barra\n",
    "for i, valor in enumerate(top5_artículos['ganancia']):\n",
    "    ax.text(i, valor, f'{valor:.2f}', ha='center', va='bottom')  # Formato con 2 decimales\n",
    "\n",
    "# Personalizar etiquetas y título\n",
    "ax.set_xlabel('Artículo')\n",
    "ax.set_ylabel('Ganancia Total')\n",
    "ax.set_title('Artículo con más Ganancias')\n",
    "ax.set_xticklabels(top5_artículos['articulo'], rotation=90)\n",
    "ax.bar(top5_artículos['articulo'], top5_artículos['ganancia'], color='mediumseagreen')\n",
    "\n",
    " #Ajustar y mostrar gráfico\n",
    "plt.tight_layout()  \n",
    "plt.show()"
   ]
  },
  {
   "cell_type": "markdown",
   "metadata": {},
   "source": [
    "*Podemos observar como es que los artículos que más se venden, no son necesariamente los que generan más ganancia, debido al precio unitario por artículo los que generan mayor ganancia son: sandalias, sudadera y escoba*"
   ]
  },
  {
   "cell_type": "code",
   "execution_count": 16,
   "metadata": {},
   "outputs": [
    {
     "data": {
      "text/html": [
       "<div>\n",
       "<style scoped>\n",
       "    .dataframe tbody tr th:only-of-type {\n",
       "        vertical-align: middle;\n",
       "    }\n",
       "\n",
       "    .dataframe tbody tr th {\n",
       "        vertical-align: top;\n",
       "    }\n",
       "\n",
       "    .dataframe thead th {\n",
       "        text-align: right;\n",
       "    }\n",
       "</style>\n",
       "<table border=\"1\" class=\"dataframe\">\n",
       "  <thead>\n",
       "    <tr style=\"text-align: right;\">\n",
       "      <th></th>\n",
       "      <th>categoria</th>\n",
       "      <th>ganancia</th>\n",
       "    </tr>\n",
       "  </thead>\n",
       "  <tbody>\n",
       "    <tr>\n",
       "      <th>0</th>\n",
       "      <td>Vestimenta</td>\n",
       "      <td>4862.20</td>\n",
       "    </tr>\n",
       "    <tr>\n",
       "      <th>1</th>\n",
       "      <td>Hogar</td>\n",
       "      <td>2398.36</td>\n",
       "    </tr>\n",
       "    <tr>\n",
       "      <th>2</th>\n",
       "      <td>Comestibles</td>\n",
       "      <td>794.22</td>\n",
       "    </tr>\n",
       "  </tbody>\n",
       "</table>\n",
       "</div>"
      ],
      "text/plain": [
       "     categoria  ganancia\n",
       "0   Vestimenta   4862.20\n",
       "1        Hogar   2398.36\n",
       "2  Comestibles    794.22"
      ]
     },
     "execution_count": 16,
     "metadata": {},
     "output_type": "execute_result"
    }
   ],
   "source": [
    "# Determinar el total de ganancias según la categoría\n",
    "totales_categoria = df_sc.groupby('categoria')['ganancia'].sum()\n",
    "\n",
    "totales_categoria = totales_categoria.sort_values(ascending = False)\n",
    "\n",
    "totales_categoria = totales_categoria.reset_index()\n",
    "\n",
    "totales_categoria\n"
   ]
  },
  {
   "cell_type": "code",
   "execution_count": 17,
   "metadata": {},
   "outputs": [
    {
     "data": {
      "image/png": "[encoded data removed]",
      "text/plain": [
       "<Figure size 500x500 with 1 Axes>"
      ]
     },
     "metadata": {},
     "output_type": "display_data"
    }
   ],
   "source": [
    "# Realizar un gráfico circular representativo\n",
    "\n",
    "# Crear el gráfico circular\n",
    "plt.figure(figsize=(5,5))\n",
    "\n",
    "# Personalizar atributos del gráfico\n",
    "plt.pie(totales_categoria['ganancia'], labels=totales_categoria['categoria'], autopct='%1.1f%%', startangle=90, colors=['lightcoral', 'lightskyblue', 'palegreen'])\n",
    "plt.title('Distribución de Ganancia por Categoría')\n",
    "\n",
    "# Ajustar y mostrar\n",
    "plt.tight_layout()\n",
    "plt.show()\n"
   ]
  },
  {
   "cell_type": "code",
   "execution_count": 18,
   "metadata": {},
   "outputs": [
    {
     "data": {
      "text/html": [
       "<div>\n",
       "<style scoped>\n",
       "    .dataframe tbody tr th:only-of-type {\n",
       "        vertical-align: middle;\n",
       "    }\n",
       "\n",
       "    .dataframe tbody tr th {\n",
       "        vertical-align: top;\n",
       "    }\n",
       "\n",
       "    .dataframe thead th {\n",
       "        text-align: right;\n",
       "    }\n",
       "</style>\n",
       "<table border=\"1\" class=\"dataframe\">\n",
       "  <thead>\n",
       "    <tr style=\"text-align: right;\">\n",
       "      <th></th>\n",
       "      <th>vendedor</th>\n",
       "      <th>ganancia</th>\n",
       "    </tr>\n",
       "  </thead>\n",
       "  <tbody>\n",
       "    <tr>\n",
       "      <th>0</th>\n",
       "      <td>Dustin Gee</td>\n",
       "      <td>1671.53</td>\n",
       "    </tr>\n",
       "    <tr>\n",
       "      <th>1</th>\n",
       "      <td>Steve Ashton</td>\n",
       "      <td>1393.14</td>\n",
       "    </tr>\n",
       "    <tr>\n",
       "      <th>2</th>\n",
       "      <td>Trevor Snodgrass</td>\n",
       "      <td>1344.09</td>\n",
       "    </tr>\n",
       "    <tr>\n",
       "      <th>3</th>\n",
       "      <td>Boris Stanford</td>\n",
       "      <td>1262.90</td>\n",
       "    </tr>\n",
       "    <tr>\n",
       "      <th>4</th>\n",
       "      <td>Desmond Delaney</td>\n",
       "      <td>1227.08</td>\n",
       "    </tr>\n",
       "    <tr>\n",
       "      <th>5</th>\n",
       "      <td>Sarah Bond</td>\n",
       "      <td>1156.04</td>\n",
       "    </tr>\n",
       "  </tbody>\n",
       "</table>\n",
       "</div>"
      ],
      "text/plain": [
       "           vendedor  ganancia\n",
       "0        Dustin Gee   1671.53\n",
       "1      Steve Ashton   1393.14\n",
       "2  Trevor Snodgrass   1344.09\n",
       "3    Boris Stanford   1262.90\n",
       "4   Desmond Delaney   1227.08\n",
       "5        Sarah Bond   1156.04"
      ]
     },
     "execution_count": 18,
     "metadata": {},
     "output_type": "execute_result"
    }
   ],
   "source": [
    "# Mostrar solo los valores de ventas totales para cada vendedor\n",
    "\n",
    "totales_vendedor = df_sc.groupby('vendedor')['ganancia'].sum()\n",
    "\n",
    "totales_vendedor = totales_vendedor.sort_values(ascending = False)\n",
    "\n",
    "totales_vendedor = totales_vendedor.reset_index()\n",
    "totales_vendedor\n",
    "\n"
   ]
  },
  {
   "cell_type": "code",
   "execution_count": 19,
   "metadata": {},
   "outputs": [
    {
     "name": "stderr",
     "output_type": "stream",
     "text": [
      "C:\\Users\\Usuario\\AppData\\Local\\Temp\\ipykernel_16704\\1727837168.py:17: UserWarning: set_ticklabels() should only be used with a fixed number of ticks, i.e. after set_ticks() or using a FixedLocator.\n",
      "  ax.set_xticklabels(totales_vendedor['vendedor'], rotation=90)\n"
     ]
    },
    {
     "data": {
      "image/png": "[encoded data removed]",
      "text/plain": [
       "<Figure size 600x500 with 1 Axes>"
      ]
     },
     "metadata": {},
     "output_type": "display_data"
    }
   ],
   "source": [
    "#Crear gráfico representativo con el vendedor que ha generado más ganancias en el mes\n",
    "\n",
    "# Crear figura y ejes\n",
    "fig, ax = plt.subplots(figsize=(6, 5))\n",
    "\n",
    "# Definir tipo y componentes del gráfico\n",
    "ax.bar(totales_vendedor['vendedor'], totales_vendedor['ganancia'])\n",
    "\n",
    "# Añadir etiquetas de valor en la cima de cada barra\n",
    "for i, valor in enumerate(totales_vendedor['ganancia']):\n",
    "    ax.text(i, valor, f'{valor:.2f}', ha='center', va='bottom')  # Formato con 2 decimales\n",
    "\n",
    "# Ajustar etiquetas y título\n",
    "ax.set_xlabel('Vendedor')\n",
    "ax.set_ylabel('Ganancia Total')\n",
    "ax.set_title('Ganancia Mensual por Vendedor')\n",
    "ax.set_xticklabels(totales_vendedor['vendedor'], rotation=90)\n",
    "ax.bar(totales_vendedor['vendedor'], totales_vendedor['ganancia'], color='lightseagreen')\n",
    "\n",
    "# Ajustar y mostrar el gráfico\n",
    "plt.tight_layout()  \n",
    "plt.show()"
   ]
  },
  {
   "cell_type": "markdown",
   "metadata": {},
   "source": [
    "*El vendedor con mayor ganancia en ventas del mes es Dustin Gee, mientras que el vendedor con menor ganancia es Sarah Bond.*"
   ]
  },
  {
   "cell_type": "code",
   "execution_count": 20,
   "metadata": {},
   "outputs": [
    {
     "data": {
      "text/html": [
       "<div>\n",
       "<style scoped>\n",
       "    .dataframe tbody tr th:only-of-type {\n",
       "        vertical-align: middle;\n",
       "    }\n",
       "\n",
       "    .dataframe tbody tr th {\n",
       "        vertical-align: top;\n",
       "    }\n",
       "\n",
       "    .dataframe thead th {\n",
       "        text-align: right;\n",
       "    }\n",
       "</style>\n",
       "<table border=\"1\" class=\"dataframe\">\n",
       "  <thead>\n",
       "    <tr style=\"text-align: right;\">\n",
       "      <th></th>\n",
       "      <th>region</th>\n",
       "      <th>ganancia</th>\n",
       "    </tr>\n",
       "  </thead>\n",
       "  <tbody>\n",
       "    <tr>\n",
       "      <th>0</th>\n",
       "      <td>Este</td>\n",
       "      <td>2351.82</td>\n",
       "    </tr>\n",
       "    <tr>\n",
       "      <th>1</th>\n",
       "      <td>Norte</td>\n",
       "      <td>1731.83</td>\n",
       "    </tr>\n",
       "    <tr>\n",
       "      <th>2</th>\n",
       "      <td>Oeste</td>\n",
       "      <td>1934.72</td>\n",
       "    </tr>\n",
       "    <tr>\n",
       "      <th>3</th>\n",
       "      <td>Sur</td>\n",
       "      <td>2036.41</td>\n",
       "    </tr>\n",
       "  </tbody>\n",
       "</table>\n",
       "</div>"
      ],
      "text/plain": [
       "  region  ganancia\n",
       "0   Este   2351.82\n",
       "1  Norte   1731.83\n",
       "2  Oeste   1934.72\n",
       "3    Sur   2036.41"
      ]
     },
     "execution_count": 20,
     "metadata": {},
     "output_type": "execute_result"
    }
   ],
   "source": [
    "# Calcular en que región se generan más ganancias\n",
    "\n",
    "ventas_región = df_sc.groupby('region')['ganancia'].sum()\n",
    "ventas_región.sort_values(ascending = False)\n",
    "ventas_región = ventas_región.reset_index()\n",
    "ventas_región\n"
   ]
  },
  {
   "cell_type": "code",
   "execution_count": 21,
   "metadata": {},
   "outputs": [
    {
     "data": {
      "image/png": "[encoded data removed]",
      "text/plain": [
       "<Figure size 500x500 with 1 Axes>"
      ]
     },
     "metadata": {},
     "output_type": "display_data"
    }
   ],
   "source": [
    "# Realizar un gráfico circular para visualizar los porcentajes de ventas\n",
    "\n",
    "plt.figure(figsize=(5,5))\n",
    "\n",
    "plt.pie(ventas_región['ganancia'], labels=ventas_región['region'], autopct='%1.1f%%', startangle=90, colors= ['lightcoral', 'lightskyblue', 'palegreen', 'lightgoldenrodyellow'])\n",
    "plt.title('Distribución de Ganancia por Región')\n",
    "\n",
    "plt.tight_layout()\n",
    "plt.show()"
   ]
  },
  {
   "cell_type": "markdown",
   "metadata": {},
   "source": [
    "*Podemos observar como la distribución de las ganancias no representa valores mayores o menores extremos para ninguna de las regiones. Sin embargo las ganancias son ligeramente mayores en la región del Este con un 29.2% en total*"
   ]
  },
  {
   "cell_type": "markdown",
   "metadata": {},
   "source": [
    "<div class=\"alert alert-info\">\n",
    "<b>Nota:</b> Reemplazar el archivo .csv para realizar el próximo análisis de ventas mensual.\n",
    "</div>\n"
   ]
  }
 ],
 "metadata": {
  "kernelspec": {
   "display_name": "Python 3",
   "language": "python",
   "name": "python3"
  },
  "language_info": {
   "codemirror_mode": {
    "name": "ipython",
    "version": 3
   },
   "file_extension": ".py",
   "mimetype": "text/x-python",
   "name": "python",
   "nbconvert_exporter": "python",
   "pygments_lexer": "ipython3",
   "version": "3.12.1"
  }
 },
 "nbformat": 4,
 "nbformat_minor": 2
}
